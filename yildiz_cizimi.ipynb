{
 "cells": [
  {
   "cell_type": "code",
   "execution_count": 1,
   "metadata": {},
   "outputs": [
    {
     "name": "stdout",
     "output_type": "stream",
     "text": [
      "Baklava dilimi\n",
      "\n",
      "     \n",
      "    *\n",
      "   ***\n",
      "  *****\n",
      " *******\n",
      "*********\n",
      " *******\n",
      "  *****\n",
      "   ***\n",
      "    *\n"
     ]
    }
   ],
   "source": [
    "# baklava dilimi \n",
    "print(\"Baklava dilimi\\n\")\n",
    "satir =int(input(\"Satır sayısı giriniz :\"))\n",
    "for i in range(satir):\n",
    "    for j in range((satir)-i):\n",
    "        print(\" \",end=\"\")\n",
    "    for k in range(i*2-1):\n",
    "        print(\"*\",end=\"\")\n",
    "    print()\n",
    "for i in range(satir,0,-1):\n",
    "    for l in range((satir)-i):\n",
    "        print(\" \",end=\"\")\n",
    "    for m in range(i*2-1):\n",
    "        print(\"*\",end=\"\")\n",
    "    print()"
   ]
  },
  {
   "cell_type": "code",
   "execution_count": 5,
   "metadata": {},
   "outputs": [
    {
     "name": "stdout",
     "output_type": "stream",
     "text": [
      "Piramit şekli\n",
      "\n",
      "        *\n",
      "       ***\n",
      "      *****\n",
      "     *******\n",
      "    *********\n",
      "   ***********\n",
      "  *************\n",
      " ***************\n",
      "*****************\n"
     ]
    }
   ],
   "source": [
    "#piramit\n",
    "print(\"Piramit şekli\\n\")\n",
    "satir=9\n",
    "for i in range(satir):\n",
    "    print(' '*(satir-i-1) + '*'*(2*i+1))"
   ]
  },
  {
   "cell_type": "code",
   "execution_count": 4,
   "metadata": {},
   "outputs": [
    {
     "name": "stdout",
     "output_type": "stream",
     "text": [
      "Dik üçgen şekli\n",
      "\n",
      "    * \n",
      "    * * \n",
      "    * * * \n",
      "    * * * * \n",
      "    * * * * * \n"
     ]
    }
   ],
   "source": [
    "print(\"Dik üçgen şekli\\n\")\n",
    "#dik üçgen\n",
    "for i in range(0,5):\n",
    "    for j in range(0,4):\n",
    "      print(end = \" \")\n",
    "    k -= 1\n",
    "    for j in range (0, i+1):\n",
    "      print(\"* \", end='')\n",
    "    print() "
   ]
  },
  {
   "cell_type": "code",
   "execution_count": 3,
   "metadata": {},
   "outputs": [
    {
     "name": "stdout",
     "output_type": "stream",
     "text": [
      "Ters dik üçgen şekli\n",
      "\n",
      "*****\n",
      " ****\n",
      "  ***\n",
      "   **\n",
      "    *\n"
     ]
    }
   ],
   "source": [
    "print(\"Ters dik üçgen şekli\\n\")\n",
    "#ters dik üçgen \n",
    "satir = 5\n",
    "for i in range(satir,0,-1):\n",
    "    print( \" \"*(satir-i) + \"*\"*(i))"
   ]
  },
  {
   "cell_type": "code",
   "execution_count": 2,
   "metadata": {},
   "outputs": [
    {
     "name": "stdout",
     "output_type": "stream",
     "text": [
      "*        *\n",
      "**      **\n",
      "***    ***\n",
      "****  ****\n",
      "**********\n"
     ]
    }
   ],
   "source": [
    "satir = 5\n",
    "for satirSayisi in range(1,satir+1):\n",
    "       print(\"*\" * satirSayisi+\" \"* ((satir-satirSayisi)*2) + \"*\"*satirSayisi)"
   ]
  }
 ],
 "metadata": {
  "interpreter": {
   "hash": "eabca979b0553fa6d87e9a00c352604d3b703d4afc9641643dd42376492b80f6"
  },
  "kernelspec": {
   "display_name": "Python 3.10.2 64-bit",
   "language": "python",
   "name": "python3"
  },
  "language_info": {
   "codemirror_mode": {
    "name": "ipython",
    "version": 3
   },
   "file_extension": ".py",
   "mimetype": "text/x-python",
   "name": "python",
   "nbconvert_exporter": "python",
   "pygments_lexer": "ipython3",
   "version": "3.10.2"
  },
  "orig_nbformat": 4
 },
 "nbformat": 4,
 "nbformat_minor": 2
}
